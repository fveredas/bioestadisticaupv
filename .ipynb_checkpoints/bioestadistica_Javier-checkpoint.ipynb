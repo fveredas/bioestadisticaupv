{
 "cells": [
  {
   "cell_type": "markdown",
   "metadata": {},
   "source": [
    "# Proyecto Bioestadística\n",
    "## Concepciones sobre la familia\n",
    "### Javier Veredas Morente"
   ]
  },
  {
   "cell_type": "code",
   "execution_count": 586,
   "metadata": {},
   "outputs": [],
   "source": [
    "import numpy as np\n",
    "import pandas as pd\n",
    "import matplotlib.pyplot as plt\n",
    "\n",
    "%matplotlib inline"
   ]
  },
  {
   "cell_type": "markdown",
   "metadata": {},
   "source": [
    "#### Carga de datos desde el fichero"
   ]
  },
  {
   "cell_type": "code",
   "execution_count": 587,
   "metadata": {},
   "outputs": [],
   "source": [
    "datos = pd.read_csv(\"Concepciones Sobre Familia.csv\",\n",
    "               header = 0, \n",
    "               index_col = 0,\n",
    "                   names = ['id',\n",
    "                           'edad',\n",
    "                           'genero',\n",
    "                           'estudios',\n",
    "                           'creencias',\n",
    "                           'edad_hijos',\n",
    "                           'num_hijos',\n",
    "                           'aborto',\n",
    "                           'in_vitro',\n",
    "                           'adopcion',\n",
    "                           'gest_subro',\n",
    "                           'no_hijos',\n",
    "                           'familia_mono',\n",
    "                           'familia_homo',\n",
    "                           'divorcio',\n",
    "                           'rec_divorcio',\n",
    "                           'matrimonio_hijos',\n",
    "                           'hijo_pareja',\n",
    "                           'hijo_tipo_de',\n",
    "                           'genero2',\n",
    "                           'estudios2',\n",
    "                           'creencias2',\n",
    "                           'in_vitro2',\n",
    "                           'adopcion2',\n",
    "                           'gest_subro2',\n",
    "                           'no_hijos2',\n",
    "                           'hijo_tipo_de2',\n",
    "                           'edad_clases',\n",
    "                           'edadv2']\n",
    "                   )"
   ]
  },
  {
   "cell_type": "code",
   "execution_count": 588,
   "metadata": {},
   "outputs": [
    {
     "data": {
      "text/plain": [
       "Index(['edad', 'genero', 'estudios', 'creencias', 'edad_hijos', 'num_hijos',\n",
       "       'aborto', 'in_vitro', 'adopcion', 'gest_subro', 'no_hijos',\n",
       "       'familia_mono', 'familia_homo', 'divorcio', 'rec_divorcio',\n",
       "       'matrimonio_hijos', 'hijo_pareja', 'hijo_tipo_de', 'genero2',\n",
       "       'estudios2', 'creencias2', 'in_vitro2', 'adopcion2', 'gest_subro2',\n",
       "       'no_hijos2', 'hijo_tipo_de2', 'edad_clases', 'edadv2'],\n",
       "      dtype='object')"
      ]
     },
     "execution_count": 588,
     "metadata": {},
     "output_type": "execute_result"
    }
   ],
   "source": [
    "datos.columns"
   ]
  },
  {
   "cell_type": "code",
   "execution_count": 589,
   "metadata": {},
   "outputs": [
    {
     "name": "stdout",
     "output_type": "stream",
     "text": [
      "<class 'pandas.core.frame.DataFrame'>\n",
      "Int64Index: 928 entries, 1 to 928\n",
      "Data columns (total 28 columns):\n",
      "edad                928 non-null int64\n",
      "genero              928 non-null object\n",
      "estudios            928 non-null object\n",
      "creencias           928 non-null object\n",
      "edad_hijos          928 non-null int64\n",
      "num_hijos           917 non-null float64\n",
      "aborto              928 non-null object\n",
      "in_vitro            928 non-null object\n",
      "adopcion            928 non-null object\n",
      "gest_subro          928 non-null object\n",
      "no_hijos            928 non-null object\n",
      "familia_mono        922 non-null object\n",
      "familia_homo        927 non-null object\n",
      "divorcio            926 non-null object\n",
      "rec_divorcio        927 non-null object\n",
      "matrimonio_hijos    928 non-null object\n",
      "hijo_pareja         925 non-null object\n",
      "hijo_tipo_de        928 non-null object\n",
      "genero2             925 non-null object\n",
      "estudios2           928 non-null object\n",
      "creencias2          928 non-null object\n",
      "in_vitro2           928 non-null object\n",
      "adopcion2           928 non-null object\n",
      "gest_subro2         928 non-null object\n",
      "no_hijos2           928 non-null object\n",
      "hijo_tipo_de2       928 non-null object\n",
      "edad_clases         914 non-null object\n",
      "edadv2              928 non-null object\n",
      "dtypes: float64(1), int64(2), object(25)\n",
      "memory usage: 210.2+ KB\n"
     ]
    }
   ],
   "source": [
    "datos.info()"
   ]
  },
  {
   "cell_type": "code",
   "execution_count": 590,
   "metadata": {},
   "outputs": [
    {
     "data": {
      "text/html": [
       "<div>\n",
       "<style scoped>\n",
       "    .dataframe tbody tr th:only-of-type {\n",
       "        vertical-align: middle;\n",
       "    }\n",
       "\n",
       "    .dataframe tbody tr th {\n",
       "        vertical-align: top;\n",
       "    }\n",
       "\n",
       "    .dataframe thead th {\n",
       "        text-align: right;\n",
       "    }\n",
       "</style>\n",
       "<table border=\"1\" class=\"dataframe\">\n",
       "  <thead>\n",
       "    <tr style=\"text-align: right;\">\n",
       "      <th></th>\n",
       "      <th>edad</th>\n",
       "      <th>genero</th>\n",
       "      <th>estudios</th>\n",
       "      <th>creencias</th>\n",
       "      <th>edad_hijos</th>\n",
       "      <th>num_hijos</th>\n",
       "      <th>aborto</th>\n",
       "      <th>in_vitro</th>\n",
       "      <th>adopcion</th>\n",
       "      <th>gest_subro</th>\n",
       "      <th>...</th>\n",
       "      <th>genero2</th>\n",
       "      <th>estudios2</th>\n",
       "      <th>creencias2</th>\n",
       "      <th>in_vitro2</th>\n",
       "      <th>adopcion2</th>\n",
       "      <th>gest_subro2</th>\n",
       "      <th>no_hijos2</th>\n",
       "      <th>hijo_tipo_de2</th>\n",
       "      <th>edad_clases</th>\n",
       "      <th>edadv2</th>\n",
       "    </tr>\n",
       "  </thead>\n",
       "  <tbody>\n",
       "    <tr>\n",
       "      <th>count</th>\n",
       "      <td>928.000000</td>\n",
       "      <td>928</td>\n",
       "      <td>928</td>\n",
       "      <td>928</td>\n",
       "      <td>928.000000</td>\n",
       "      <td>917.000000</td>\n",
       "      <td>928</td>\n",
       "      <td>928</td>\n",
       "      <td>928</td>\n",
       "      <td>928</td>\n",
       "      <td>...</td>\n",
       "      <td>925</td>\n",
       "      <td>928</td>\n",
       "      <td>928</td>\n",
       "      <td>928</td>\n",
       "      <td>928</td>\n",
       "      <td>928</td>\n",
       "      <td>928</td>\n",
       "      <td>928</td>\n",
       "      <td>914</td>\n",
       "      <td>928</td>\n",
       "    </tr>\n",
       "    <tr>\n",
       "      <th>unique</th>\n",
       "      <td>NaN</td>\n",
       "      <td>3</td>\n",
       "      <td>5</td>\n",
       "      <td>5</td>\n",
       "      <td>NaN</td>\n",
       "      <td>NaN</td>\n",
       "      <td>2</td>\n",
       "      <td>5</td>\n",
       "      <td>5</td>\n",
       "      <td>5</td>\n",
       "      <td>...</td>\n",
       "      <td>3</td>\n",
       "      <td>5</td>\n",
       "      <td>5</td>\n",
       "      <td>5</td>\n",
       "      <td>5</td>\n",
       "      <td>5</td>\n",
       "      <td>5</td>\n",
       "      <td>4</td>\n",
       "      <td>7</td>\n",
       "      <td>7</td>\n",
       "    </tr>\n",
       "    <tr>\n",
       "      <th>top</th>\n",
       "      <td>NaN</td>\n",
       "      <td>Mujer</td>\n",
       "      <td>Estudios Universitarios</td>\n",
       "      <td>Creyente</td>\n",
       "      <td>NaN</td>\n",
       "      <td>NaN</td>\n",
       "      <td>si</td>\n",
       "      <td>Primera opción</td>\n",
       "      <td>Segunda opción</td>\n",
       "      <td></td>\n",
       "      <td>...</td>\n",
       "      <td>Mujer</td>\n",
       "      <td>Estudios Universitarios</td>\n",
       "      <td>Creyente</td>\n",
       "      <td>Primera opción</td>\n",
       "      <td>Segunda opción</td>\n",
       "      <td>5</td>\n",
       "      <td>Tercera opción</td>\n",
       "      <td>Compartida</td>\n",
       "      <td>16-20</td>\n",
       "      <td>15-25</td>\n",
       "    </tr>\n",
       "    <tr>\n",
       "      <th>freq</th>\n",
       "      <td>NaN</td>\n",
       "      <td>679</td>\n",
       "      <td>603</td>\n",
       "      <td>425</td>\n",
       "      <td>NaN</td>\n",
       "      <td>NaN</td>\n",
       "      <td>771</td>\n",
       "      <td>543</td>\n",
       "      <td>466</td>\n",
       "      <td>376</td>\n",
       "      <td>...</td>\n",
       "      <td>676</td>\n",
       "      <td>603</td>\n",
       "      <td>425</td>\n",
       "      <td>543</td>\n",
       "      <td>466</td>\n",
       "      <td>376</td>\n",
       "      <td>329</td>\n",
       "      <td>784</td>\n",
       "      <td>356</td>\n",
       "      <td>467</td>\n",
       "    </tr>\n",
       "    <tr>\n",
       "      <th>mean</th>\n",
       "      <td>32.508621</td>\n",
       "      <td>NaN</td>\n",
       "      <td>NaN</td>\n",
       "      <td>NaN</td>\n",
       "      <td>29.896552</td>\n",
       "      <td>2.143948</td>\n",
       "      <td>NaN</td>\n",
       "      <td>NaN</td>\n",
       "      <td>NaN</td>\n",
       "      <td>NaN</td>\n",
       "      <td>...</td>\n",
       "      <td>NaN</td>\n",
       "      <td>NaN</td>\n",
       "      <td>NaN</td>\n",
       "      <td>NaN</td>\n",
       "      <td>NaN</td>\n",
       "      <td>NaN</td>\n",
       "      <td>NaN</td>\n",
       "      <td>NaN</td>\n",
       "      <td>NaN</td>\n",
       "      <td>NaN</td>\n",
       "    </tr>\n",
       "    <tr>\n",
       "      <th>std</th>\n",
       "      <td>15.608891</td>\n",
       "      <td>NaN</td>\n",
       "      <td>NaN</td>\n",
       "      <td>NaN</td>\n",
       "      <td>2.963654</td>\n",
       "      <td>1.109211</td>\n",
       "      <td>NaN</td>\n",
       "      <td>NaN</td>\n",
       "      <td>NaN</td>\n",
       "      <td>NaN</td>\n",
       "      <td>...</td>\n",
       "      <td>NaN</td>\n",
       "      <td>NaN</td>\n",
       "      <td>NaN</td>\n",
       "      <td>NaN</td>\n",
       "      <td>NaN</td>\n",
       "      <td>NaN</td>\n",
       "      <td>NaN</td>\n",
       "      <td>NaN</td>\n",
       "      <td>NaN</td>\n",
       "      <td>NaN</td>\n",
       "    </tr>\n",
       "    <tr>\n",
       "      <th>min</th>\n",
       "      <td>15.000000</td>\n",
       "      <td>NaN</td>\n",
       "      <td>NaN</td>\n",
       "      <td>NaN</td>\n",
       "      <td>22.000000</td>\n",
       "      <td>0.000000</td>\n",
       "      <td>NaN</td>\n",
       "      <td>NaN</td>\n",
       "      <td>NaN</td>\n",
       "      <td>NaN</td>\n",
       "      <td>...</td>\n",
       "      <td>NaN</td>\n",
       "      <td>NaN</td>\n",
       "      <td>NaN</td>\n",
       "      <td>NaN</td>\n",
       "      <td>NaN</td>\n",
       "      <td>NaN</td>\n",
       "      <td>NaN</td>\n",
       "      <td>NaN</td>\n",
       "      <td>NaN</td>\n",
       "      <td>NaN</td>\n",
       "    </tr>\n",
       "    <tr>\n",
       "      <th>25%</th>\n",
       "      <td>18.000000</td>\n",
       "      <td>NaN</td>\n",
       "      <td>NaN</td>\n",
       "      <td>NaN</td>\n",
       "      <td>28.000000</td>\n",
       "      <td>2.000000</td>\n",
       "      <td>NaN</td>\n",
       "      <td>NaN</td>\n",
       "      <td>NaN</td>\n",
       "      <td>NaN</td>\n",
       "      <td>...</td>\n",
       "      <td>NaN</td>\n",
       "      <td>NaN</td>\n",
       "      <td>NaN</td>\n",
       "      <td>NaN</td>\n",
       "      <td>NaN</td>\n",
       "      <td>NaN</td>\n",
       "      <td>NaN</td>\n",
       "      <td>NaN</td>\n",
       "      <td>NaN</td>\n",
       "      <td>NaN</td>\n",
       "    </tr>\n",
       "    <tr>\n",
       "      <th>50%</th>\n",
       "      <td>24.000000</td>\n",
       "      <td>NaN</td>\n",
       "      <td>NaN</td>\n",
       "      <td>NaN</td>\n",
       "      <td>30.000000</td>\n",
       "      <td>2.000000</td>\n",
       "      <td>NaN</td>\n",
       "      <td>NaN</td>\n",
       "      <td>NaN</td>\n",
       "      <td>NaN</td>\n",
       "      <td>...</td>\n",
       "      <td>NaN</td>\n",
       "      <td>NaN</td>\n",
       "      <td>NaN</td>\n",
       "      <td>NaN</td>\n",
       "      <td>NaN</td>\n",
       "      <td>NaN</td>\n",
       "      <td>NaN</td>\n",
       "      <td>NaN</td>\n",
       "      <td>NaN</td>\n",
       "      <td>NaN</td>\n",
       "    </tr>\n",
       "    <tr>\n",
       "      <th>75%</th>\n",
       "      <td>47.000000</td>\n",
       "      <td>NaN</td>\n",
       "      <td>NaN</td>\n",
       "      <td>NaN</td>\n",
       "      <td>30.000000</td>\n",
       "      <td>3.000000</td>\n",
       "      <td>NaN</td>\n",
       "      <td>NaN</td>\n",
       "      <td>NaN</td>\n",
       "      <td>NaN</td>\n",
       "      <td>...</td>\n",
       "      <td>NaN</td>\n",
       "      <td>NaN</td>\n",
       "      <td>NaN</td>\n",
       "      <td>NaN</td>\n",
       "      <td>NaN</td>\n",
       "      <td>NaN</td>\n",
       "      <td>NaN</td>\n",
       "      <td>NaN</td>\n",
       "      <td>NaN</td>\n",
       "      <td>NaN</td>\n",
       "    </tr>\n",
       "    <tr>\n",
       "      <th>max</th>\n",
       "      <td>81.000000</td>\n",
       "      <td>NaN</td>\n",
       "      <td>NaN</td>\n",
       "      <td>NaN</td>\n",
       "      <td>50.000000</td>\n",
       "      <td>9.000000</td>\n",
       "      <td>NaN</td>\n",
       "      <td>NaN</td>\n",
       "      <td>NaN</td>\n",
       "      <td>NaN</td>\n",
       "      <td>...</td>\n",
       "      <td>NaN</td>\n",
       "      <td>NaN</td>\n",
       "      <td>NaN</td>\n",
       "      <td>NaN</td>\n",
       "      <td>NaN</td>\n",
       "      <td>NaN</td>\n",
       "      <td>NaN</td>\n",
       "      <td>NaN</td>\n",
       "      <td>NaN</td>\n",
       "      <td>NaN</td>\n",
       "    </tr>\n",
       "  </tbody>\n",
       "</table>\n",
       "<p>11 rows × 28 columns</p>\n",
       "</div>"
      ],
      "text/plain": [
       "              edad genero                 estudios creencias  edad_hijos  \\\n",
       "count   928.000000    928                      928       928  928.000000   \n",
       "unique         NaN      3                        5         5         NaN   \n",
       "top            NaN  Mujer  Estudios Universitarios  Creyente         NaN   \n",
       "freq           NaN    679                      603       425         NaN   \n",
       "mean     32.508621    NaN                      NaN       NaN   29.896552   \n",
       "std      15.608891    NaN                      NaN       NaN    2.963654   \n",
       "min      15.000000    NaN                      NaN       NaN   22.000000   \n",
       "25%      18.000000    NaN                      NaN       NaN   28.000000   \n",
       "50%      24.000000    NaN                      NaN       NaN   30.000000   \n",
       "75%      47.000000    NaN                      NaN       NaN   30.000000   \n",
       "max      81.000000    NaN                      NaN       NaN   50.000000   \n",
       "\n",
       "         num_hijos aborto        in_vitro        adopcion gest_subro  ...    \\\n",
       "count   917.000000    928             928             928        928  ...     \n",
       "unique         NaN      2               5               5          5  ...     \n",
       "top            NaN     si  Primera opción  Segunda opción             ...     \n",
       "freq           NaN    771             543             466        376  ...     \n",
       "mean      2.143948    NaN             NaN             NaN        NaN  ...     \n",
       "std       1.109211    NaN             NaN             NaN        NaN  ...     \n",
       "min       0.000000    NaN             NaN             NaN        NaN  ...     \n",
       "25%       2.000000    NaN             NaN             NaN        NaN  ...     \n",
       "50%       2.000000    NaN             NaN             NaN        NaN  ...     \n",
       "75%       3.000000    NaN             NaN             NaN        NaN  ...     \n",
       "max       9.000000    NaN             NaN             NaN        NaN  ...     \n",
       "\n",
       "       genero2                estudios2 creencias2       in_vitro2  \\\n",
       "count      925                      928        928             928   \n",
       "unique       3                        5          5               5   \n",
       "top      Mujer  Estudios Universitarios   Creyente  Primera opción   \n",
       "freq       676                      603        425             543   \n",
       "mean       NaN                      NaN        NaN             NaN   \n",
       "std        NaN                      NaN        NaN             NaN   \n",
       "min        NaN                      NaN        NaN             NaN   \n",
       "25%        NaN                      NaN        NaN             NaN   \n",
       "50%        NaN                      NaN        NaN             NaN   \n",
       "75%        NaN                      NaN        NaN             NaN   \n",
       "max        NaN                      NaN        NaN             NaN   \n",
       "\n",
       "             adopcion2 gest_subro2       no_hijos2 hijo_tipo_de2 edad_clases  \\\n",
       "count              928         928             928           928         914   \n",
       "unique               5           5               5             4           7   \n",
       "top     Segunda opción           5  Tercera opción    Compartida       16-20   \n",
       "freq               466         376             329           784         356   \n",
       "mean               NaN         NaN             NaN           NaN         NaN   \n",
       "std                NaN         NaN             NaN           NaN         NaN   \n",
       "min                NaN         NaN             NaN           NaN         NaN   \n",
       "25%                NaN         NaN             NaN           NaN         NaN   \n",
       "50%                NaN         NaN             NaN           NaN         NaN   \n",
       "75%                NaN         NaN             NaN           NaN         NaN   \n",
       "max                NaN         NaN             NaN           NaN         NaN   \n",
       "\n",
       "       edadv2  \n",
       "count     928  \n",
       "unique      7  \n",
       "top     15-25  \n",
       "freq      467  \n",
       "mean      NaN  \n",
       "std       NaN  \n",
       "min       NaN  \n",
       "25%       NaN  \n",
       "50%       NaN  \n",
       "75%       NaN  \n",
       "max       NaN  \n",
       "\n",
       "[11 rows x 28 columns]"
      ]
     },
     "execution_count": 590,
     "metadata": {},
     "output_type": "execute_result"
    }
   ],
   "source": [
    "datos.describe(include='all')"
   ]
  },
  {
   "cell_type": "code",
   "execution_count": 591,
   "metadata": {},
   "outputs": [
    {
     "data": {
      "text/html": [
       "<div>\n",
       "<style scoped>\n",
       "    .dataframe tbody tr th:only-of-type {\n",
       "        vertical-align: middle;\n",
       "    }\n",
       "\n",
       "    .dataframe tbody tr th {\n",
       "        vertical-align: top;\n",
       "    }\n",
       "\n",
       "    .dataframe thead th {\n",
       "        text-align: right;\n",
       "    }\n",
       "</style>\n",
       "<table border=\"1\" class=\"dataframe\">\n",
       "  <thead>\n",
       "    <tr style=\"text-align: right;\">\n",
       "      <th></th>\n",
       "      <th>edad</th>\n",
       "      <th>genero</th>\n",
       "      <th>estudios</th>\n",
       "      <th>creencias</th>\n",
       "      <th>edad_hijos</th>\n",
       "      <th>num_hijos</th>\n",
       "      <th>aborto</th>\n",
       "      <th>in_vitro</th>\n",
       "      <th>adopcion</th>\n",
       "      <th>gest_subro</th>\n",
       "      <th>...</th>\n",
       "      <th>genero2</th>\n",
       "      <th>estudios2</th>\n",
       "      <th>creencias2</th>\n",
       "      <th>in_vitro2</th>\n",
       "      <th>adopcion2</th>\n",
       "      <th>gest_subro2</th>\n",
       "      <th>no_hijos2</th>\n",
       "      <th>hijo_tipo_de2</th>\n",
       "      <th>edad_clases</th>\n",
       "      <th>edadv2</th>\n",
       "    </tr>\n",
       "    <tr>\n",
       "      <th>id</th>\n",
       "      <th></th>\n",
       "      <th></th>\n",
       "      <th></th>\n",
       "      <th></th>\n",
       "      <th></th>\n",
       "      <th></th>\n",
       "      <th></th>\n",
       "      <th></th>\n",
       "      <th></th>\n",
       "      <th></th>\n",
       "      <th></th>\n",
       "      <th></th>\n",
       "      <th></th>\n",
       "      <th></th>\n",
       "      <th></th>\n",
       "      <th></th>\n",
       "      <th></th>\n",
       "      <th></th>\n",
       "      <th></th>\n",
       "      <th></th>\n",
       "      <th></th>\n",
       "    </tr>\n",
       "  </thead>\n",
       "  <tbody>\n",
       "    <tr>\n",
       "      <th>1</th>\n",
       "      <td>19</td>\n",
       "      <td>Mujer</td>\n",
       "      <td>Estudios Universitarios</td>\n",
       "      <td>Creyente</td>\n",
       "      <td>31</td>\n",
       "      <td>3.0</td>\n",
       "      <td>si</td>\n",
       "      <td>Segunda opción</td>\n",
       "      <td>Primera opción</td>\n",
       "      <td>Tercera opción</td>\n",
       "      <td>...</td>\n",
       "      <td>Mujer</td>\n",
       "      <td>Estudios Universitarios</td>\n",
       "      <td>Creyente</td>\n",
       "      <td>Segunda opción</td>\n",
       "      <td>Primera opción</td>\n",
       "      <td>Tercera opción</td>\n",
       "      <td>5</td>\n",
       "      <td>Compartida</td>\n",
       "      <td>16-20</td>\n",
       "      <td>15-25</td>\n",
       "    </tr>\n",
       "    <tr>\n",
       "      <th>2</th>\n",
       "      <td>19</td>\n",
       "      <td>Mujer</td>\n",
       "      <td>Estudios secundarios</td>\n",
       "      <td>Creyente</td>\n",
       "      <td>29</td>\n",
       "      <td>3.0</td>\n",
       "      <td>no</td>\n",
       "      <td>Primera opción</td>\n",
       "      <td>Segunda opción</td>\n",
       "      <td>Cuarta opción</td>\n",
       "      <td>...</td>\n",
       "      <td>Mujer</td>\n",
       "      <td>Estudios secundarios</td>\n",
       "      <td>Creyente</td>\n",
       "      <td>Primera opción</td>\n",
       "      <td>Segunda opción</td>\n",
       "      <td>Cuarta opción</td>\n",
       "      <td>Tercera opción</td>\n",
       "      <td>Compartida</td>\n",
       "      <td>16-20</td>\n",
       "      <td>15-25</td>\n",
       "    </tr>\n",
       "    <tr>\n",
       "      <th>3</th>\n",
       "      <td>18</td>\n",
       "      <td>Mujer</td>\n",
       "      <td>Estudios Universitarios</td>\n",
       "      <td>Creyente</td>\n",
       "      <td>28</td>\n",
       "      <td>6.0</td>\n",
       "      <td>no</td>\n",
       "      <td></td>\n",
       "      <td>Primera opción</td>\n",
       "      <td></td>\n",
       "      <td>...</td>\n",
       "      <td>Mujer</td>\n",
       "      <td>Estudios Universitarios</td>\n",
       "      <td>Creyente</td>\n",
       "      <td>5</td>\n",
       "      <td>Primera opción</td>\n",
       "      <td>5</td>\n",
       "      <td>5</td>\n",
       "      <td>Compartida</td>\n",
       "      <td>16-20</td>\n",
       "      <td>15-25</td>\n",
       "    </tr>\n",
       "    <tr>\n",
       "      <th>4</th>\n",
       "      <td>18</td>\n",
       "      <td>Mujer</td>\n",
       "      <td>Estudios Universitarios</td>\n",
       "      <td>Creyente</td>\n",
       "      <td>28</td>\n",
       "      <td>2.0</td>\n",
       "      <td>si</td>\n",
       "      <td>Primera opción</td>\n",
       "      <td>Segunda opción</td>\n",
       "      <td>Cuarta opción</td>\n",
       "      <td>...</td>\n",
       "      <td>NaN</td>\n",
       "      <td>Estudios Universitarios</td>\n",
       "      <td>Creyente</td>\n",
       "      <td>Primera opción</td>\n",
       "      <td>Segunda opción</td>\n",
       "      <td>Cuarta opción</td>\n",
       "      <td>Tercera opción</td>\n",
       "      <td>Única</td>\n",
       "      <td>16-20</td>\n",
       "      <td>15-25</td>\n",
       "    </tr>\n",
       "    <tr>\n",
       "      <th>5</th>\n",
       "      <td>18</td>\n",
       "      <td>Mujer</td>\n",
       "      <td>Estudios Universitarios</td>\n",
       "      <td>Creyente</td>\n",
       "      <td>27</td>\n",
       "      <td>4.0</td>\n",
       "      <td>no</td>\n",
       "      <td></td>\n",
       "      <td>Primera opción</td>\n",
       "      <td></td>\n",
       "      <td>...</td>\n",
       "      <td>Mujer</td>\n",
       "      <td>Estudios Universitarios</td>\n",
       "      <td>Creyente</td>\n",
       "      <td>5</td>\n",
       "      <td>Primera opción</td>\n",
       "      <td>5</td>\n",
       "      <td>5</td>\n",
       "      <td>Compartida</td>\n",
       "      <td>16-20</td>\n",
       "      <td>15-25</td>\n",
       "    </tr>\n",
       "  </tbody>\n",
       "</table>\n",
       "<p>5 rows × 28 columns</p>\n",
       "</div>"
      ],
      "text/plain": [
       "    edad genero                 estudios creencias  edad_hijos  num_hijos  \\\n",
       "id                                                                          \n",
       "1     19  Mujer  Estudios Universitarios  Creyente          31        3.0   \n",
       "2     19  Mujer     Estudios secundarios  Creyente          29        3.0   \n",
       "3     18  Mujer  Estudios Universitarios  Creyente          28        6.0   \n",
       "4     18  Mujer  Estudios Universitarios  Creyente          28        2.0   \n",
       "5     18  Mujer  Estudios Universitarios  Creyente          27        4.0   \n",
       "\n",
       "   aborto        in_vitro        adopcion      gest_subro  ...   genero2  \\\n",
       "id                                                         ...             \n",
       "1      si  Segunda opción  Primera opción  Tercera opción  ...     Mujer   \n",
       "2      no  Primera opción  Segunda opción   Cuarta opción  ...     Mujer   \n",
       "3      no                  Primera opción                  ...     Mujer   \n",
       "4      si  Primera opción  Segunda opción   Cuarta opción  ...       NaN   \n",
       "5      no                  Primera opción                  ...     Mujer   \n",
       "\n",
       "                  estudios2 creencias2       in_vitro2       adopcion2  \\\n",
       "id                                                                       \n",
       "1   Estudios Universitarios   Creyente  Segunda opción  Primera opción   \n",
       "2      Estudios secundarios   Creyente  Primera opción  Segunda opción   \n",
       "3   Estudios Universitarios   Creyente               5  Primera opción   \n",
       "4   Estudios Universitarios   Creyente  Primera opción  Segunda opción   \n",
       "5   Estudios Universitarios   Creyente               5  Primera opción   \n",
       "\n",
       "       gest_subro2       no_hijos2 hijo_tipo_de2 edad_clases edadv2  \n",
       "id                                                                   \n",
       "1   Tercera opción               5    Compartida       16-20  15-25  \n",
       "2    Cuarta opción  Tercera opción    Compartida       16-20  15-25  \n",
       "3                5               5    Compartida       16-20  15-25  \n",
       "4    Cuarta opción  Tercera opción         Única       16-20  15-25  \n",
       "5                5               5    Compartida       16-20  15-25  \n",
       "\n",
       "[5 rows x 28 columns]"
      ]
     },
     "execution_count": 591,
     "metadata": {},
     "output_type": "execute_result"
    }
   ],
   "source": [
    "datos.head()"
   ]
  },
  {
   "cell_type": "markdown",
   "metadata": {},
   "source": [
    "Me quedo solo con las cuatro variables que tiene que analizar Javier, que son: 'Género', 'Aborto', 'EdadNÚMEROCONCRETO' y 'Quéedadconsideraslamejorpa'. Estas variables han sido renombradas con 'genero', 'aborto', 'edad', 'edad_hijos' "
   ]
  },
  {
   "cell_type": "code",
   "execution_count": 592,
   "metadata": {},
   "outputs": [],
   "source": [
    "datos_analisis = datos[['genero', 'aborto', 'edad', 'edad_hijos']]"
   ]
  },
  {
   "cell_type": "code",
   "execution_count": 593,
   "metadata": {},
   "outputs": [
    {
     "data": {
      "text/html": [
       "<div>\n",
       "<style scoped>\n",
       "    .dataframe tbody tr th:only-of-type {\n",
       "        vertical-align: middle;\n",
       "    }\n",
       "\n",
       "    .dataframe tbody tr th {\n",
       "        vertical-align: top;\n",
       "    }\n",
       "\n",
       "    .dataframe thead th {\n",
       "        text-align: right;\n",
       "    }\n",
       "</style>\n",
       "<table border=\"1\" class=\"dataframe\">\n",
       "  <thead>\n",
       "    <tr style=\"text-align: right;\">\n",
       "      <th></th>\n",
       "      <th>genero</th>\n",
       "      <th>aborto</th>\n",
       "      <th>edad</th>\n",
       "      <th>edad_hijos</th>\n",
       "    </tr>\n",
       "    <tr>\n",
       "      <th>id</th>\n",
       "      <th></th>\n",
       "      <th></th>\n",
       "      <th></th>\n",
       "      <th></th>\n",
       "    </tr>\n",
       "  </thead>\n",
       "  <tbody>\n",
       "    <tr>\n",
       "      <th>1</th>\n",
       "      <td>Mujer</td>\n",
       "      <td>si</td>\n",
       "      <td>19</td>\n",
       "      <td>31</td>\n",
       "    </tr>\n",
       "    <tr>\n",
       "      <th>2</th>\n",
       "      <td>Mujer</td>\n",
       "      <td>no</td>\n",
       "      <td>19</td>\n",
       "      <td>29</td>\n",
       "    </tr>\n",
       "    <tr>\n",
       "      <th>3</th>\n",
       "      <td>Mujer</td>\n",
       "      <td>no</td>\n",
       "      <td>18</td>\n",
       "      <td>28</td>\n",
       "    </tr>\n",
       "    <tr>\n",
       "      <th>4</th>\n",
       "      <td>Mujer</td>\n",
       "      <td>si</td>\n",
       "      <td>18</td>\n",
       "      <td>28</td>\n",
       "    </tr>\n",
       "    <tr>\n",
       "      <th>5</th>\n",
       "      <td>Mujer</td>\n",
       "      <td>no</td>\n",
       "      <td>18</td>\n",
       "      <td>27</td>\n",
       "    </tr>\n",
       "  </tbody>\n",
       "</table>\n",
       "</div>"
      ],
      "text/plain": [
       "   genero aborto  edad  edad_hijos\n",
       "id                                \n",
       "1   Mujer     si    19          31\n",
       "2   Mujer     no    19          29\n",
       "3   Mujer     no    18          28\n",
       "4   Mujer     si    18          28\n",
       "5   Mujer     no    18          27"
      ]
     },
     "execution_count": 593,
     "metadata": {},
     "output_type": "execute_result"
    }
   ],
   "source": [
    "datos_analisis.head()"
   ]
  },
  {
   "cell_type": "code",
   "execution_count": 594,
   "metadata": {},
   "outputs": [
    {
     "data": {
      "text/html": [
       "<div>\n",
       "<style scoped>\n",
       "    .dataframe tbody tr th:only-of-type {\n",
       "        vertical-align: middle;\n",
       "    }\n",
       "\n",
       "    .dataframe tbody tr th {\n",
       "        vertical-align: top;\n",
       "    }\n",
       "\n",
       "    .dataframe thead th {\n",
       "        text-align: right;\n",
       "    }\n",
       "</style>\n",
       "<table border=\"1\" class=\"dataframe\">\n",
       "  <thead>\n",
       "    <tr style=\"text-align: right;\">\n",
       "      <th></th>\n",
       "      <th>genero</th>\n",
       "      <th>aborto</th>\n",
       "      <th>edad</th>\n",
       "      <th>edad_hijos</th>\n",
       "    </tr>\n",
       "  </thead>\n",
       "  <tbody>\n",
       "    <tr>\n",
       "      <th>count</th>\n",
       "      <td>928</td>\n",
       "      <td>928</td>\n",
       "      <td>928.000000</td>\n",
       "      <td>928.000000</td>\n",
       "    </tr>\n",
       "    <tr>\n",
       "      <th>unique</th>\n",
       "      <td>3</td>\n",
       "      <td>2</td>\n",
       "      <td>NaN</td>\n",
       "      <td>NaN</td>\n",
       "    </tr>\n",
       "    <tr>\n",
       "      <th>top</th>\n",
       "      <td>Mujer</td>\n",
       "      <td>si</td>\n",
       "      <td>NaN</td>\n",
       "      <td>NaN</td>\n",
       "    </tr>\n",
       "    <tr>\n",
       "      <th>freq</th>\n",
       "      <td>679</td>\n",
       "      <td>771</td>\n",
       "      <td>NaN</td>\n",
       "      <td>NaN</td>\n",
       "    </tr>\n",
       "    <tr>\n",
       "      <th>mean</th>\n",
       "      <td>NaN</td>\n",
       "      <td>NaN</td>\n",
       "      <td>32.508621</td>\n",
       "      <td>29.896552</td>\n",
       "    </tr>\n",
       "    <tr>\n",
       "      <th>std</th>\n",
       "      <td>NaN</td>\n",
       "      <td>NaN</td>\n",
       "      <td>15.608891</td>\n",
       "      <td>2.963654</td>\n",
       "    </tr>\n",
       "    <tr>\n",
       "      <th>min</th>\n",
       "      <td>NaN</td>\n",
       "      <td>NaN</td>\n",
       "      <td>15.000000</td>\n",
       "      <td>22.000000</td>\n",
       "    </tr>\n",
       "    <tr>\n",
       "      <th>25%</th>\n",
       "      <td>NaN</td>\n",
       "      <td>NaN</td>\n",
       "      <td>18.000000</td>\n",
       "      <td>28.000000</td>\n",
       "    </tr>\n",
       "    <tr>\n",
       "      <th>50%</th>\n",
       "      <td>NaN</td>\n",
       "      <td>NaN</td>\n",
       "      <td>24.000000</td>\n",
       "      <td>30.000000</td>\n",
       "    </tr>\n",
       "    <tr>\n",
       "      <th>75%</th>\n",
       "      <td>NaN</td>\n",
       "      <td>NaN</td>\n",
       "      <td>47.000000</td>\n",
       "      <td>30.000000</td>\n",
       "    </tr>\n",
       "    <tr>\n",
       "      <th>max</th>\n",
       "      <td>NaN</td>\n",
       "      <td>NaN</td>\n",
       "      <td>81.000000</td>\n",
       "      <td>50.000000</td>\n",
       "    </tr>\n",
       "  </tbody>\n",
       "</table>\n",
       "</div>"
      ],
      "text/plain": [
       "       genero aborto        edad  edad_hijos\n",
       "count     928    928  928.000000  928.000000\n",
       "unique      3      2         NaN         NaN\n",
       "top     Mujer     si         NaN         NaN\n",
       "freq      679    771         NaN         NaN\n",
       "mean      NaN    NaN   32.508621   29.896552\n",
       "std       NaN    NaN   15.608891    2.963654\n",
       "min       NaN    NaN   15.000000   22.000000\n",
       "25%       NaN    NaN   18.000000   28.000000\n",
       "50%       NaN    NaN   24.000000   30.000000\n",
       "75%       NaN    NaN   47.000000   30.000000\n",
       "max       NaN    NaN   81.000000   50.000000"
      ]
     },
     "execution_count": 594,
     "metadata": {},
     "output_type": "execute_result"
    }
   ],
   "source": [
    "datos_analisis.describe(include='all')"
   ]
  },
  {
   "cell_type": "code",
   "execution_count": 595,
   "metadata": {},
   "outputs": [
    {
     "name": "stdout",
     "output_type": "stream",
     "text": [
      "<class 'pandas.core.frame.DataFrame'>\n",
      "Int64Index: 928 entries, 1 to 928\n",
      "Data columns (total 4 columns):\n",
      "genero        928 non-null object\n",
      "aborto        928 non-null object\n",
      "edad          928 non-null int64\n",
      "edad_hijos    928 non-null int64\n",
      "dtypes: int64(2), object(2)\n",
      "memory usage: 36.2+ KB\n"
     ]
    }
   ],
   "source": [
    "datos_analisis.info()"
   ]
  },
  {
   "cell_type": "markdown",
   "metadata": {},
   "source": [
    "Puede apreciarse que las variables `genero` y `aborto` son categóricas, mientras que las variables `edad`e `edad_hijos` son continuas (de tipo entero, o sea, discretas)"
   ]
  },
  {
   "cell_type": "markdown",
   "metadata": {},
   "source": [
    "No hay valores perdidos (total de muestras 928)"
   ]
  },
  {
   "cell_type": "markdown",
   "metadata": {},
   "source": [
    "## Relación entre género y aborto"
   ]
  },
  {
   "cell_type": "code",
   "execution_count": 596,
   "metadata": {},
   "outputs": [
    {
     "data": {
      "image/png": "[encoded data removed]",
      "text/plain": [
       "<Figure size 432x288 with 1 Axes>"
      ]
     },
     "metadata": {},
     "output_type": "display_data"
    }
   ],
   "source": [
    "fig,ax = plt.subplots()\n",
    "pd.crosstab(datos_analisis['genero'], columns='frecuencia').plot.bar(legend=None, ax=ax)\n",
    "plt.xlabel('género')\n",
    "plt.ylabel('frecuencia')\n",
    "plt.savefig('barplot_genero.png', dpi=300)"
   ]
  },
  {
   "cell_type": "code",
   "execution_count": 597,
   "metadata": {},
   "outputs": [
    {
     "data": {
      "text/plain": [
       "Mujer     0.731681\n",
       "Hombre    0.264009\n",
       "Otro      0.004310\n",
       "Name: genero, dtype: float64"
      ]
     },
     "execution_count": 597,
     "metadata": {},
     "output_type": "execute_result"
    }
   ],
   "source": [
    "datos_analisis['genero'].value_counts(normalize='True')"
   ]
  },
  {
   "cell_type": "markdown",
   "metadata": {},
   "source": [
    "Como puede observarse, la mayoría de los sujetos encuestados son mujeres (73%)"
   ]
  },
  {
   "cell_type": "code",
   "execution_count": 598,
   "metadata": {},
   "outputs": [
    {
     "data": {
      "image/png": "[encoded data removed]",
      "text/plain": [
       "<Figure size 432x288 with 1 Axes>"
      ]
     },
     "metadata": {},
     "output_type": "display_data"
    }
   ],
   "source": [
    "fig,ax = plt.subplots()\n",
    "pd.crosstab(datos_analisis['aborto'], columns='frecuencia').plot.bar(legend=None, ax=ax)\n",
    "plt.xlabel('A favor del aborto')\n",
    "plt.ylabel('frecuencia')\n",
    "plt.savefig('barplot_aborto.png', dpi=300)"
   ]
  },
  {
   "cell_type": "code",
   "execution_count": 599,
   "metadata": {},
   "outputs": [
    {
     "data": {
      "text/plain": [
       "si    0.830819\n",
       "no    0.169181\n",
       "Name: aborto, dtype: float64"
      ]
     },
     "execution_count": 599,
     "metadata": {},
     "output_type": "execute_result"
    }
   ],
   "source": [
    "datos_analisis['aborto'].value_counts(normalize=True)"
   ]
  },
  {
   "cell_type": "markdown",
   "metadata": {},
   "source": [
    "Vamos a calcular un intervalo de confianza para esta proporción:"
   ]
  },
  {
   "cell_type": "code",
   "execution_count": 600,
   "metadata": {},
   "outputs": [
    {
     "name": "stdout",
     "output_type": "stream",
     "text": [
      "Confidence interval (95%): [0.8066975304493967, 0.8549404005850859]\n"
     ]
    }
   ],
   "source": [
    "import statsmodels.stats.proportion as smp\n",
    "\n",
    "counts = datos_analisis['aborto'].value_counts()[0]\n",
    "\n",
    "lower, upper = smp.proportion_confint (counts, datos_analisis.shape[0], alpha=0.05, method='normal')\n",
    "\n",
    "print ('Confidence interval (95%): [{}, {}]'.format(lower, upper))"
   ]
  },
  {
   "cell_type": "markdown",
   "metadata": {},
   "source": [
    "Con un 95% de confianza sabemos que la proporción de sujetos a favor del aborto están en el intervalo [0.8066975304493967, 0.8549404005850859]"
   ]
  },
  {
   "cell_type": "markdown",
   "metadata": {},
   "source": [
    "Como puede observarse, la mayoría de los sujetos encuestados están a favor del aborto (83%)"
   ]
  },
  {
   "cell_type": "code",
   "execution_count": 601,
   "metadata": {},
   "outputs": [
    {
     "data": {
      "text/html": [
       "<div>\n",
       "<style scoped>\n",
       "    .dataframe tbody tr th:only-of-type {\n",
       "        vertical-align: middle;\n",
       "    }\n",
       "\n",
       "    .dataframe tbody tr th {\n",
       "        vertical-align: top;\n",
       "    }\n",
       "\n",
       "    .dataframe thead th {\n",
       "        text-align: right;\n",
       "    }\n",
       "</style>\n",
       "<table border=\"1\" class=\"dataframe\">\n",
       "  <thead>\n",
       "    <tr style=\"text-align: right;\">\n",
       "      <th>genero</th>\n",
       "      <th>Hombre</th>\n",
       "      <th>Mujer</th>\n",
       "      <th>Otro</th>\n",
       "    </tr>\n",
       "    <tr>\n",
       "      <th>aborto</th>\n",
       "      <th></th>\n",
       "      <th></th>\n",
       "      <th></th>\n",
       "    </tr>\n",
       "  </thead>\n",
       "  <tbody>\n",
       "    <tr>\n",
       "      <th>no</th>\n",
       "      <td>19.183673</td>\n",
       "      <td>16.200295</td>\n",
       "      <td>0.0</td>\n",
       "    </tr>\n",
       "    <tr>\n",
       "      <th>si</th>\n",
       "      <td>80.816327</td>\n",
       "      <td>83.799705</td>\n",
       "      <td>100.0</td>\n",
       "    </tr>\n",
       "  </tbody>\n",
       "</table>\n",
       "</div>"
      ],
      "text/plain": [
       "genero     Hombre      Mujer   Otro\n",
       "aborto                             \n",
       "no      19.183673  16.200295    0.0\n",
       "si      80.816327  83.799705  100.0"
      ]
     },
     "execution_count": 601,
     "metadata": {},
     "output_type": "execute_result"
    }
   ],
   "source": [
    "pd.crosstab(index=datos_analisis['aborto'],\n",
    "            columns=datos_analisis['genero']).apply(lambda x: x/x.sum()*100, axis=0)"
   ]
  },
  {
   "cell_type": "code",
   "execution_count": 602,
   "metadata": {},
   "outputs": [
    {
     "data": {
      "image/png": "[encoded data removed]",
      "text/plain": [
       "<Figure size 432x288 with 1 Axes>"
      ]
     },
     "metadata": {},
     "output_type": "display_data"
    }
   ],
   "source": [
    "fig, ax = plt.subplots()\n",
    "\n",
    "pd.crosstab(index=datos_analisis['aborto'],\n",
    "            columns=datos_analisis['genero']).apply(lambda x: x/x.sum()*100, axis=0).plot(kind='bar', ax = ax)\n",
    "\n",
    "fig.savefig('hist_aborto_genero.png', dpi=300)"
   ]
  },
  {
   "cell_type": "code",
   "execution_count": 603,
   "metadata": {},
   "outputs": [
    {
     "data": {
      "image/png": "[encoded data removed]",
      "text/plain": [
       "<Figure size 432x288 with 1 Axes>"
      ]
     },
     "metadata": {},
     "output_type": "display_data"
    }
   ],
   "source": [
    "fig, ax = plt.subplots()\n",
    "pd.crosstab(index=datos_analisis['aborto'],\n",
    "            columns=datos_analisis['genero']).apply(lambda x: x/x.sum()*100, axis=0).plot(ax=ax, kind='bar', stacked=True)\n",
    "plt.savefig('stacked_bar_plot_genero_aborto.png', dpi=300)"
   ]
  },
  {
   "cell_type": "markdown",
   "metadata": {},
   "source": [
    "Elimino las filas con genero 'Otro' porque solo hay 4 muestras con ese valor"
   ]
  },
  {
   "cell_type": "code",
   "execution_count": 604,
   "metadata": {},
   "outputs": [],
   "source": [
    "datos_analisis_hm = datos_analisis[datos_analisis.genero != 'Otro']"
   ]
  },
  {
   "cell_type": "code",
   "execution_count": 605,
   "metadata": {},
   "outputs": [],
   "source": [
    "crosstab = pd.crosstab(index=datos_analisis_hm['genero'],\n",
    "            columns=datos_analisis_hm['aborto'])"
   ]
  },
  {
   "cell_type": "code",
   "execution_count": 606,
   "metadata": {},
   "outputs": [
    {
     "data": {
      "text/html": [
       "<div>\n",
       "<style scoped>\n",
       "    .dataframe tbody tr th:only-of-type {\n",
       "        vertical-align: middle;\n",
       "    }\n",
       "\n",
       "    .dataframe tbody tr th {\n",
       "        vertical-align: top;\n",
       "    }\n",
       "\n",
       "    .dataframe thead th {\n",
       "        text-align: right;\n",
       "    }\n",
       "</style>\n",
       "<table border=\"1\" class=\"dataframe\">\n",
       "  <thead>\n",
       "    <tr style=\"text-align: right;\">\n",
       "      <th>aborto</th>\n",
       "      <th>no</th>\n",
       "      <th>si</th>\n",
       "    </tr>\n",
       "    <tr>\n",
       "      <th>genero</th>\n",
       "      <th></th>\n",
       "      <th></th>\n",
       "    </tr>\n",
       "  </thead>\n",
       "  <tbody>\n",
       "    <tr>\n",
       "      <th>Hombre</th>\n",
       "      <td>47</td>\n",
       "      <td>198</td>\n",
       "    </tr>\n",
       "    <tr>\n",
       "      <th>Mujer</th>\n",
       "      <td>110</td>\n",
       "      <td>569</td>\n",
       "    </tr>\n",
       "  </tbody>\n",
       "</table>\n",
       "</div>"
      ],
      "text/plain": [
       "aborto   no   si\n",
       "genero          \n",
       "Hombre   47  198\n",
       "Mujer   110  569"
      ]
     },
     "execution_count": 606,
     "metadata": {},
     "output_type": "execute_result"
    }
   ],
   "source": [
    "crosstab"
   ]
  },
  {
   "cell_type": "markdown",
   "metadata": {},
   "source": [
    "Dibujamos el barplot (en porcentajes) solo para hombres y mujeres:"
   ]
  },
  {
   "cell_type": "code",
   "execution_count": 607,
   "metadata": {},
   "outputs": [
    {
     "data": {
      "image/png": "[encoded data removed]",
      "text/plain": [
       "<Figure size 432x288 with 1 Axes>"
      ]
     },
     "metadata": {},
     "output_type": "display_data"
    }
   ],
   "source": [
    "fig, ax = plt.subplots()\n",
    "crosstab.apply(lambda x: x/x.sum()*100, axis=1).plot(kind='bar', ax=ax)\n",
    "plt.savefig('hist_aborto_genero_hm.png', dpi = 300)"
   ]
  },
  {
   "cell_type": "markdown",
   "metadata": {},
   "source": [
    "Test chi-cuadrado"
   ]
  },
  {
   "cell_type": "code",
   "execution_count": 608,
   "metadata": {},
   "outputs": [],
   "source": [
    "from scipy.stats import chi2_contingency\n",
    "from scipy.stats import chi2"
   ]
  },
  {
   "cell_type": "code",
   "execution_count": 609,
   "metadata": {},
   "outputs": [],
   "source": [
    "stat, p, dof, expected = chi2_contingency(crosstab)"
   ]
  },
  {
   "cell_type": "code",
   "execution_count": 610,
   "metadata": {},
   "outputs": [
    {
     "name": "stdout",
     "output_type": "stream",
     "text": [
      "chi-2: 0.9344565705843434\n"
     ]
    }
   ],
   "source": [
    "print('chi-2: '+str(stat))"
   ]
  },
  {
   "cell_type": "code",
   "execution_count": 611,
   "metadata": {},
   "outputs": [
    {
     "name": "stdout",
     "output_type": "stream",
     "text": [
      "p-value: 0.3337075592735585\n"
     ]
    }
   ],
   "source": [
    "print('p-value: '+str(p))"
   ]
  },
  {
   "cell_type": "markdown",
   "metadata": {},
   "source": [
    "Verifico la hipótesis altenativa usando el estadístico chi^2"
   ]
  },
  {
   "cell_type": "code",
   "execution_count": 612,
   "metadata": {},
   "outputs": [
    {
     "name": "stdout",
     "output_type": "stream",
     "text": [
      "Genero y aborto son variables independientes (no podemos rechazar H0)\n"
     ]
    }
   ],
   "source": [
    "prob = 0.95\n",
    "critical = chi2.ppf(prob, dof)\n",
    "if abs(stat) >= critical:\n",
    "    print('Genero y aborton son variables dependientes (rechazamos H0)')\n",
    "else:\n",
    "    print('Genero y aborto son variables independientes (no podemos rechazar H0)')"
   ]
  },
  {
   "cell_type": "markdown",
   "metadata": {},
   "source": [
    "Ahora, usando el p-valor:"
   ]
  },
  {
   "cell_type": "code",
   "execution_count": 613,
   "metadata": {},
   "outputs": [
    {
     "name": "stdout",
     "output_type": "stream",
     "text": [
      "Genero y aborto son variables independientes (no podemos rechazar H0)\n"
     ]
    }
   ],
   "source": [
    "alpha = 1.0 - prob\n",
    "if p <= alpha:\n",
    "    print('Genero y aborton son variables dependientes (rechazamos H0)')\n",
    "else:\n",
    "    print('Genero y aborto son variables independientes (no podemos rechazar H0)')"
   ]
  },
  {
   "cell_type": "markdown",
   "metadata": {},
   "source": [
    "### Conclusión: no hay diferencias significativas entre hombres y mujeres respecto a su opinión a favor o en contra del aborto"
   ]
  },
  {
   "cell_type": "markdown",
   "metadata": {},
   "source": [
    "Chi-2 para toda la población (sin excluir Otro):"
   ]
  },
  {
   "cell_type": "code",
   "execution_count": 614,
   "metadata": {},
   "outputs": [],
   "source": [
    "crosstab = pd.crosstab(index=datos_analisis['genero'],\n",
    "            columns=datos_analisis['aborto'])"
   ]
  },
  {
   "cell_type": "code",
   "execution_count": 615,
   "metadata": {},
   "outputs": [
    {
     "data": {
      "text/html": [
       "<div>\n",
       "<style scoped>\n",
       "    .dataframe tbody tr th:only-of-type {\n",
       "        vertical-align: middle;\n",
       "    }\n",
       "\n",
       "    .dataframe tbody tr th {\n",
       "        vertical-align: top;\n",
       "    }\n",
       "\n",
       "    .dataframe thead th {\n",
       "        text-align: right;\n",
       "    }\n",
       "</style>\n",
       "<table border=\"1\" class=\"dataframe\">\n",
       "  <thead>\n",
       "    <tr style=\"text-align: right;\">\n",
       "      <th>aborto</th>\n",
       "      <th>no</th>\n",
       "      <th>si</th>\n",
       "    </tr>\n",
       "    <tr>\n",
       "      <th>genero</th>\n",
       "      <th></th>\n",
       "      <th></th>\n",
       "    </tr>\n",
       "  </thead>\n",
       "  <tbody>\n",
       "    <tr>\n",
       "      <th>Hombre</th>\n",
       "      <td>47</td>\n",
       "      <td>198</td>\n",
       "    </tr>\n",
       "    <tr>\n",
       "      <th>Mujer</th>\n",
       "      <td>110</td>\n",
       "      <td>569</td>\n",
       "    </tr>\n",
       "    <tr>\n",
       "      <th>Otro</th>\n",
       "      <td>0</td>\n",
       "      <td>4</td>\n",
       "    </tr>\n",
       "  </tbody>\n",
       "</table>\n",
       "</div>"
      ],
      "text/plain": [
       "aborto   no   si\n",
       "genero          \n",
       "Hombre   47  198\n",
       "Mujer   110  569\n",
       "Otro      0    4"
      ]
     },
     "execution_count": 615,
     "metadata": {},
     "output_type": "execute_result"
    }
   ],
   "source": [
    "crosstab"
   ]
  },
  {
   "cell_type": "code",
   "execution_count": 616,
   "metadata": {},
   "outputs": [
    {
     "name": "stdout",
     "output_type": "stream",
     "text": [
      "chi-2: 1.9580993798113493\n",
      "p-value: 0.37566793030056017\n"
     ]
    }
   ],
   "source": [
    "stat, p, dof, expected = chi2_contingency(crosstab)\n",
    "\n",
    "print('chi-2: '+str(stat))\n",
    "\n",
    "print('p-value: '+str(p))"
   ]
  },
  {
   "cell_type": "markdown",
   "metadata": {},
   "source": [
    "## Relación entre edad y edad_hijos"
   ]
  },
  {
   "cell_type": "code",
   "execution_count": 617,
   "metadata": {},
   "outputs": [
    {
     "data": {
      "text/html": [
       "<div>\n",
       "<style scoped>\n",
       "    .dataframe tbody tr th:only-of-type {\n",
       "        vertical-align: middle;\n",
       "    }\n",
       "\n",
       "    .dataframe tbody tr th {\n",
       "        vertical-align: top;\n",
       "    }\n",
       "\n",
       "    .dataframe thead th {\n",
       "        text-align: right;\n",
       "    }\n",
       "</style>\n",
       "<table border=\"1\" class=\"dataframe\">\n",
       "  <thead>\n",
       "    <tr style=\"text-align: right;\">\n",
       "      <th></th>\n",
       "      <th>edad</th>\n",
       "      <th>edad_hijos</th>\n",
       "    </tr>\n",
       "  </thead>\n",
       "  <tbody>\n",
       "    <tr>\n",
       "      <th>count</th>\n",
       "      <td>928.000000</td>\n",
       "      <td>928.000000</td>\n",
       "    </tr>\n",
       "    <tr>\n",
       "      <th>mean</th>\n",
       "      <td>32.508621</td>\n",
       "      <td>29.896552</td>\n",
       "    </tr>\n",
       "    <tr>\n",
       "      <th>std</th>\n",
       "      <td>15.608891</td>\n",
       "      <td>2.963654</td>\n",
       "    </tr>\n",
       "    <tr>\n",
       "      <th>min</th>\n",
       "      <td>15.000000</td>\n",
       "      <td>22.000000</td>\n",
       "    </tr>\n",
       "    <tr>\n",
       "      <th>25%</th>\n",
       "      <td>18.000000</td>\n",
       "      <td>28.000000</td>\n",
       "    </tr>\n",
       "    <tr>\n",
       "      <th>50%</th>\n",
       "      <td>24.000000</td>\n",
       "      <td>30.000000</td>\n",
       "    </tr>\n",
       "    <tr>\n",
       "      <th>75%</th>\n",
       "      <td>47.000000</td>\n",
       "      <td>30.000000</td>\n",
       "    </tr>\n",
       "    <tr>\n",
       "      <th>max</th>\n",
       "      <td>81.000000</td>\n",
       "      <td>50.000000</td>\n",
       "    </tr>\n",
       "  </tbody>\n",
       "</table>\n",
       "</div>"
      ],
      "text/plain": [
       "             edad  edad_hijos\n",
       "count  928.000000  928.000000\n",
       "mean    32.508621   29.896552\n",
       "std     15.608891    2.963654\n",
       "min     15.000000   22.000000\n",
       "25%     18.000000   28.000000\n",
       "50%     24.000000   30.000000\n",
       "75%     47.000000   30.000000\n",
       "max     81.000000   50.000000"
      ]
     },
     "execution_count": 617,
     "metadata": {},
     "output_type": "execute_result"
    }
   ],
   "source": [
    "datos_analisis.loc[:,['edad', 'edad_hijos']].describe()"
   ]
  },
  {
   "cell_type": "markdown",
   "metadata": {},
   "source": [
    "Histograma de edades:"
   ]
  },
  {
   "cell_type": "code",
   "execution_count": 618,
   "metadata": {},
   "outputs": [
    {
     "data": {
      "image/png": "[encoded data removed]",
      "text/plain": [
       "<Figure size 432x288 with 1 Axes>"
      ]
     },
     "metadata": {},
     "output_type": "display_data"
    }
   ],
   "source": [
    "fir, ax = plt.subplots()\n",
    "datos_analisis.edad.hist(ax=ax)\n",
    "plt.xlabel('edad')\n",
    "plt.ylabel('frecuencia')\n",
    "plt.savefig('hist_edad.png', dpi=300)"
   ]
  },
  {
   "cell_type": "markdown",
   "metadata": {},
   "source": [
    "Claramente, la población tiene una moda alrededor de> ~20 años, es decir, hay un sesgo claro en el muestreo hacia muestras de personas jóvenes."
   ]
  },
  {
   "cell_type": "markdown",
   "metadata": {},
   "source": [
    "Vamos a partir los datos en intervalos para analizar diferentes intervalos de edades:"
   ]
  },
  {
   "cell_type": "code",
   "execution_count": 619,
   "metadata": {},
   "outputs": [],
   "source": [
    "bins = [0, 19, 29, 39, 49, 59, 69, 79, np.inf]\n",
    "names = ['<20', '20-30', '30-40', '40-50', '50-60', '60-70', '70-80', '90+']"
   ]
  },
  {
   "cell_type": "code",
   "execution_count": 620,
   "metadata": {},
   "outputs": [
    {
     "name": "stderr",
     "output_type": "stream",
     "text": [
      "/home/fvn/ssd/miniconda3/envs/DL/lib/python3.6/site-packages/ipykernel_launcher.py:1: SettingWithCopyWarning: \n",
      "A value is trying to be set on a copy of a slice from a DataFrame.\n",
      "Try using .loc[row_indexer,col_indexer] = value instead\n",
      "\n",
      "See the caveats in the documentation: http://pandas.pydata.org/pandas-docs/stable/indexing.html#indexing-view-versus-copy\n",
      "  \"\"\"Entry point for launching an IPython kernel.\n"
     ]
    }
   ],
   "source": [
    "datos_analisis['rango_edad'] = pd.cut(datos_analisis['edad'], bins, labels=names)"
   ]
  },
  {
   "cell_type": "code",
   "execution_count": 621,
   "metadata": {},
   "outputs": [
    {
     "data": {
      "image/png": "[encoded data removed]",
      "text/plain": [
       "<Figure size 432x288 with 1 Axes>"
      ]
     },
     "metadata": {},
     "output_type": "display_data"
    }
   ],
   "source": [
    "fir, ax = plt.subplots()\n",
    "pd.crosstab(datos_analisis['rango_edad'], columns='frecuencia').plot.bar(legend = None, ax=ax)\n",
    "plt.xlabel('rango de edad del encuestado')\n",
    "plt.ylabel('frecuencia')\n",
    "plt.savefig('hist_edad_hijos_rango_edad.png', dpi=300)"
   ]
  },
  {
   "cell_type": "markdown",
   "metadata": {},
   "source": [
    "Histograma de edades a las que tener hijos:"
   ]
  },
  {
   "cell_type": "code",
   "execution_count": 622,
   "metadata": {},
   "outputs": [
    {
     "data": {
      "image/png": "[encoded data removed]",
      "text/plain": [
       "<Figure size 432x288 with 1 Axes>"
      ]
     },
     "metadata": {},
     "output_type": "display_data"
    }
   ],
   "source": [
    "fir, ax = plt.subplots()\n",
    "datos_analisis.edad_hijos.hist(ax=ax)\n",
    "plt.xlabel('edad ideal para tener hijos')\n",
    "plt.ylabel('frecuencia')\n",
    "plt.savefig('hist_edad_hijos.png', dpi=300)"
   ]
  },
  {
   "cell_type": "markdown",
   "metadata": {},
   "source": [
    "Claramente, la distribución tiene una moda alrededor de los ~30 años"
   ]
  },
  {
   "cell_type": "markdown",
   "metadata": {},
   "source": [
    "Veamos una regresión lineal entre `edad` y `edad_hijos`"
   ]
  },
  {
   "cell_type": "code",
   "execution_count": 623,
   "metadata": {},
   "outputs": [],
   "source": [
    "from sklearn.linear_model import LinearRegression"
   ]
  },
  {
   "cell_type": "code",
   "execution_count": 624,
   "metadata": {},
   "outputs": [],
   "source": [
    "lr = LinearRegression()"
   ]
  },
  {
   "cell_type": "code",
   "execution_count": 625,
   "metadata": {},
   "outputs": [
    {
     "name": "stderr",
     "output_type": "stream",
     "text": [
      "/home/fvn/ssd/miniconda3/envs/DL/lib/python3.6/site-packages/ipykernel_launcher.py:1: FutureWarning: reshape is deprecated and will raise in a subsequent release. Please use .values.reshape(...) instead\n",
      "  \"\"\"Entry point for launching an IPython kernel.\n"
     ]
    }
   ],
   "source": [
    "x = datos_analisis['edad'].reshape((-1,1))\n",
    "y = datos_analisis['edad_hijos']"
   ]
  },
  {
   "cell_type": "code",
   "execution_count": 626,
   "metadata": {},
   "outputs": [
    {
     "data": {
      "text/plain": [
       "LinearRegression(copy_X=True, fit_intercept=True, n_jobs=1, normalize=False)"
      ]
     },
     "execution_count": 626,
     "metadata": {},
     "output_type": "execute_result"
    }
   ],
   "source": [
    "lr.fit(x, y)"
   ]
  },
  {
   "cell_type": "code",
   "execution_count": 627,
   "metadata": {},
   "outputs": [
    {
     "name": "stdout",
     "output_type": "stream",
     "text": [
      "Coeficiente de determinación: 0.000150555825849219\n",
      "Intercepción: 29.972287801925766\n",
      "Pendiente: [-0.00232972]\n"
     ]
    }
   ],
   "source": [
    "r_sq = lr.score(x, y)\n",
    "print('Coeficiente de determinación:', r_sq)\n",
    "print('Intercepción:', lr.intercept_)\n",
    "print('Pendiente:', lr.coef_)"
   ]
  },
  {
   "cell_type": "markdown",
   "metadata": {},
   "source": [
    "El coeficiente de determinación es cercano a cero, por lo que podemos decir que la variable dependiente (edad_hijos) no se puede predecir a partir de la variable independiente (edad)."
   ]
  },
  {
   "cell_type": "markdown",
   "metadata": {},
   "source": [
    "Por otro lado, el coeficiente de intercepción está cercano a 30, es decir, a la media de edad_hijos.\n",
    "La pendiente de la recta es prácticamente cero (recta horizontal)"
   ]
  },
  {
   "cell_type": "code",
   "execution_count": 628,
   "metadata": {},
   "outputs": [
    {
     "data": {
      "image/png": "[encoded data removed]",
      "text/plain": [
       "<Figure size 432x288 with 1 Axes>"
      ]
     },
     "metadata": {},
     "output_type": "display_data"
    }
   ],
   "source": [
    "plt.scatter(x, y, color = 'red')\n",
    "plt.plot(x, lr.predict(x), color = 'blue')\n",
    "plt.title('\"Edad encuestado\" vs \"edad ideal para tener hijos\"')\n",
    "plt.xlabel('edad encuestado')\n",
    "plt.ylabel('edad ideal para tener hijos')\n",
    "plt.savefig('lr.png', dpi=300)"
   ]
  },
  {
   "cell_type": "markdown",
   "metadata": {},
   "source": [
    "Analizamos la correlación lineal entre las variables:"
   ]
  },
  {
   "cell_type": "code",
   "execution_count": 629,
   "metadata": {},
   "outputs": [
    {
     "data": {
      "text/html": [
       "<div>\n",
       "<style scoped>\n",
       "    .dataframe tbody tr th:only-of-type {\n",
       "        vertical-align: middle;\n",
       "    }\n",
       "\n",
       "    .dataframe tbody tr th {\n",
       "        vertical-align: top;\n",
       "    }\n",
       "\n",
       "    .dataframe thead th {\n",
       "        text-align: right;\n",
       "    }\n",
       "</style>\n",
       "<table border=\"1\" class=\"dataframe\">\n",
       "  <thead>\n",
       "    <tr style=\"text-align: right;\">\n",
       "      <th></th>\n",
       "      <th>edad</th>\n",
       "      <th>edad_hijos</th>\n",
       "    </tr>\n",
       "  </thead>\n",
       "  <tbody>\n",
       "    <tr>\n",
       "      <th>edad</th>\n",
       "      <td>1.00000</td>\n",
       "      <td>-0.01227</td>\n",
       "    </tr>\n",
       "    <tr>\n",
       "      <th>edad_hijos</th>\n",
       "      <td>-0.01227</td>\n",
       "      <td>1.00000</td>\n",
       "    </tr>\n",
       "  </tbody>\n",
       "</table>\n",
       "</div>"
      ],
      "text/plain": [
       "               edad  edad_hijos\n",
       "edad        1.00000    -0.01227\n",
       "edad_hijos -0.01227     1.00000"
      ]
     },
     "execution_count": 629,
     "metadata": {},
     "output_type": "execute_result"
    }
   ],
   "source": [
    "datos_analisis[['edad', 'edad_hijos']].corr()"
   ]
  },
  {
   "cell_type": "markdown",
   "metadata": {},
   "source": [
    "Se aprecia que prácticamente no hay correlación lineal (muy cercana a cero)"
   ]
  },
  {
   "cell_type": "markdown",
   "metadata": {},
   "source": [
    "#### Vamos a analizar si hay diferencias significativas en la edad ideal para tener hijos, entre hombres y mujeres"
   ]
  },
  {
   "cell_type": "code",
   "execution_count": 630,
   "metadata": {},
   "outputs": [
    {
     "data": {
      "image/png": "[encoded data removed]",
      "text/plain": [
       "<Figure size 432x288 with 1 Axes>"
      ]
     },
     "metadata": {},
     "output_type": "display_data"
    }
   ],
   "source": [
    "fig, ax = plt.subplots()\n",
    "\n",
    "datos_analisis[datos_analisis.genero != 'Otro'].boxplot(column = 'edad_hijos', by='genero', ax=ax)\n",
    "plt.title('Edad ideal para tener hijos vs género')\n",
    "plt.xlabel('género')\n",
    "plt.suptitle(\"\")\n",
    "plt.ylabel('Edad ideal para tener hijos')\n",
    "plt.savefig('box_plot_edad_hijos_vs_genero.png', dpi=300)"
   ]
  },
  {
   "cell_type": "markdown",
   "metadata": {},
   "source": [
    "Se observan diferencias en la distribución de edades entre hombres y mujeres. En la edad ideal para tener hijos (edad_hijos) es más difícil apreciar las diferencias:"
   ]
  },
  {
   "cell_type": "code",
   "execution_count": 631,
   "metadata": {},
   "outputs": [],
   "source": [
    "edad_hijos_h = datos_analisis[datos_analisis.genero == 'Hombre']['edad_hijos']\n",
    "edad_hijos_m = datos_analisis[datos_analisis.genero == 'Mujer']['edad_hijos']"
   ]
  },
  {
   "cell_type": "code",
   "execution_count": 632,
   "metadata": {},
   "outputs": [
    {
     "name": "stdout",
     "output_type": "stream",
     "text": [
      "P-value: 0.7567877385934969\n"
     ]
    }
   ],
   "source": [
    "from scipy import stats\n",
    "\n",
    "statistic, p_value = stats.ttest_ind(edad_hijos_h, edad_hijos_m, equal_var=False)\n",
    "\n",
    "print('P-value:', p_value)"
   ]
  },
  {
   "cell_type": "markdown",
   "metadata": {},
   "source": [
    "Según el p-value, no podemos rechazar H0 y, por tanto, no hay diferencias significativas entre hombres y mujeres respecto a su opinión sobre la edad ideal para tener hijos."
   ]
  },
  {
   "cell_type": "markdown",
   "metadata": {},
   "source": [
    "Vamos a analizar si hay diferencias en la opinión sobre la edad ideal para tener hijos entre dos grupos formados por menores de 40 y mayores de 40"
   ]
  },
  {
   "cell_type": "code",
   "execution_count": 633,
   "metadata": {},
   "outputs": [
    {
     "data": {
      "text/plain": [
       "count    928.000000\n",
       "mean      32.508621\n",
       "std       15.608891\n",
       "min       15.000000\n",
       "25%       18.000000\n",
       "50%       24.000000\n",
       "75%       47.000000\n",
       "max       81.000000\n",
       "Name: edad, dtype: float64"
      ]
     },
     "execution_count": 633,
     "metadata": {},
     "output_type": "execute_result"
    }
   ],
   "source": [
    "datos_analisis.edad.describe()"
   ]
  },
  {
   "cell_type": "code",
   "execution_count": 634,
   "metadata": {},
   "outputs": [
    {
     "name": "stderr",
     "output_type": "stream",
     "text": [
      "/home/fvn/ssd/miniconda3/envs/DL/lib/python3.6/site-packages/ipykernel_launcher.py:3: SettingWithCopyWarning: \n",
      "A value is trying to be set on a copy of a slice from a DataFrame.\n",
      "Try using .loc[row_indexer,col_indexer] = value instead\n",
      "\n",
      "See the caveats in the documentation: http://pandas.pydata.org/pandas-docs/stable/indexing.html#indexing-view-versus-copy\n",
      "  This is separate from the ipykernel package so we can avoid doing imports until\n"
     ]
    }
   ],
   "source": [
    "bins = [0, 39, np.inf]\n",
    "names = ['<40', '>=40']\n",
    "datos_analisis['rango_edad'] = pd.cut(datos_analisis['edad'], bins, labels=names)"
   ]
  },
  {
   "cell_type": "code",
   "execution_count": 635,
   "metadata": {},
   "outputs": [
    {
     "data": {
      "text/plain": [
       "<40     591\n",
       ">=40    337\n",
       "Name: rango_edad, dtype: int64"
      ]
     },
     "execution_count": 635,
     "metadata": {},
     "output_type": "execute_result"
    }
   ],
   "source": [
    "datos_analisis.rango_edad.value_counts()"
   ]
  },
  {
   "cell_type": "code",
   "execution_count": 636,
   "metadata": {},
   "outputs": [
    {
     "data": {
      "image/png": "[encoded data removed]",
      "text/plain": [
       "<Figure size 432x288 with 1 Axes>"
      ]
     },
     "metadata": {},
     "output_type": "display_data"
    }
   ],
   "source": [
    "fig, ax = plt.subplots()\n",
    "\n",
    "datos_analisis.boxplot(column='edad_hijos', by='rango_edad', ax=ax)\n",
    "plt.title('Edad ideal para tener hijos según rango de edad del encuestado')\n",
    "plt.xlabel('Rango de edad')\n",
    "plt.suptitle(\"\")\n",
    "plt.ylabel('Edad ideal para tener hijos')\n",
    "plt.savefig('box_plot_edad_hijos_joven.png', dpi=300)"
   ]
  },
  {
   "cell_type": "code",
   "execution_count": 646,
   "metadata": {},
   "outputs": [
    {
     "name": "stdout",
     "output_type": "stream",
     "text": [
      "Varianzas menos de 49: 7.961059967306204\n",
      "Varianzas más de 49: 10.233979793697895\n",
      "P-value: 0.39263455081119825\n"
     ]
    }
   ],
   "source": [
    "edad_hijos_menos_40 = datos_analisis[datos_analisis.rango_edad == '<40']['edad_hijos']\n",
    "edad_hijos_mas_40 = datos_analisis[datos_analisis.rango_edad == '>=40']['edad_hijos']\n",
    "\n",
    "print('Varianzas menos de 49:', edad_hijos_menos_40.var())\n",
    "print('Varianzas más de 49:', edad_hijos_mas_40.var())\n",
    "\n",
    "statistic, p_value = stats.ttest_ind(edad_hijos_menos_40, edad_hijos_mas_40)\n",
    "\n",
    "print('P-value:', p_value)"
   ]
  },
  {
   "cell_type": "markdown",
   "metadata": {},
   "source": [
    "Tampoco se aprecian diferencias significativas entre jóvenes (<40) y no jóvenes (>=40) en cuanto a su opinión sobre la edad ideal para tener hijos"
   ]
  },
  {
   "cell_type": "code",
   "execution_count": 673,
   "metadata": {},
   "outputs": [
    {
     "data": {
      "image/png": "[encoded data removed]",
      "text/plain": [
       "<Figure size 432x288 with 2 Axes>"
      ]
     },
     "metadata": {},
     "output_type": "display_data"
    }
   ],
   "source": [
    "plt.figure()\n",
    "ax1 = plt.subplot(1,2,1)\n",
    "edad_hijos_menos_40.hist(ax=ax1)\n",
    "plt.xlabel('edad ideal para hijos')\n",
    "plt.title('edad sujeto <40')\n",
    "plt.xlim([0,50])\n",
    "ax2 = plt.subplot(1,2,2)\n",
    "edad_hijos_mas_40.hist(ax=ax2)\n",
    "plt.xlabel('edad ideal para hijos')\n",
    "plt.title('edad sujeto ' + r'$\\geq$' + '40')\n",
    "plt.xlim([0,50])\n",
    "plt.savefig('hist_edad_hijos_rango_edad_subplot.png', dpi=300)"
   ]
  },
  {
   "cell_type": "markdown",
   "metadata": {},
   "source": [
    "Vamos a ver si hay relación entre la opinión sobre el aborto y la edad para tener hijos:"
   ]
  },
  {
   "cell_type": "code",
   "execution_count": 639,
   "metadata": {},
   "outputs": [
    {
     "data": {
      "image/png": "[encoded data removed]",
      "text/plain": [
       "<Figure size 432x288 with 1 Axes>"
      ]
     },
     "metadata": {},
     "output_type": "display_data"
    }
   ],
   "source": [
    "fig, ax = plt.subplots()\n",
    "datos_analisis.boxplot(column='edad_hijos', by='aborto', ax=ax)\n",
    "plt.title('Edad ideal para tener hijos vs opinión sobre aborto')\n",
    "plt.suptitle(\"\")\n",
    "plt.xlabel('A favor del aborto')\n",
    "plt.ylabel('Edad ideal para tener hijos')\n",
    "plt.savefig('boxplot_edad_hijos_aborto.png', dpi=300)"
   ]
  },
  {
   "cell_type": "code",
   "execution_count": 640,
   "metadata": {},
   "outputs": [
    {
     "name": "stdout",
     "output_type": "stream",
     "text": [
      "P-value: 0.002135069865091839\n"
     ]
    }
   ],
   "source": [
    "edad_hijos_aborto_si = datos_analisis[datos_analisis.aborto == 'si']['edad_hijos']\n",
    "edad_hijos_aborto_no = datos_analisis[datos_analisis.aborto == 'no']['edad_hijos']\n",
    "\n",
    "statistic, p_value = stats.ttest_ind(edad_hijos_aborto_si, edad_hijos_aborto_no)\n",
    "\n",
    "print('P-value:', p_value)"
   ]
  },
  {
   "cell_type": "code",
   "execution_count": 641,
   "metadata": {},
   "outputs": [
    {
     "name": "stdout",
     "output_type": "stream",
     "text": [
      "Media de edad ideal para tener hijos para personas a favor del aborto 30.03112840466926\n"
     ]
    }
   ],
   "source": [
    "print('Media de edad ideal para tener hijos'+\n",
    "     ' para personas a favor del aborto', datos_analisis[datos_analisis.aborto == 'si']['edad_hijos'].mean())"
   ]
  },
  {
   "cell_type": "code",
   "execution_count": 642,
   "metadata": {},
   "outputs": [
    {
     "name": "stdout",
     "output_type": "stream",
     "text": [
      "Media de edad ideal para tener hijos para personas en contra del aborto 29.235668789808916\n"
     ]
    }
   ],
   "source": [
    "print('Media de edad ideal para tener hijos'+\n",
    "     ' para personas en contra del aborto', datos_analisis[datos_analisis.aborto == 'no']['edad_hijos'].mean())"
   ]
  },
  {
   "cell_type": "markdown",
   "metadata": {},
   "source": [
    "La diferencia de medias es muy pequeña, sin embargo es significativa: las personas a favor del aborto, en promedio, tienen una edad ideal para tener hijos algo superior a la de las personas en contra del aborto:"
   ]
  },
  {
   "cell_type": "code",
   "execution_count": 643,
   "metadata": {},
   "outputs": [
    {
     "name": "stdout",
     "output_type": "stream",
     "text": [
      "Diferencia de medias: 0.795459614860345\n"
     ]
    }
   ],
   "source": [
    "print('Diferencia de medias:', datos_analisis[datos_analisis.aborto == 'si']['edad_hijos'].mean()-datos_analisis[datos_analisis.aborto == 'no']['edad_hijos'].mean())"
   ]
  },
  {
   "cell_type": "markdown",
   "metadata": {},
   "source": [
    "Sin embargo, aunque la diferencia es significativa no parece práctica."
   ]
  },
  {
   "cell_type": "code",
   "execution_count": null,
   "metadata": {},
   "outputs": [],
   "source": []
  }
 ],
 "metadata": {
  "kernelspec": {
   "display_name": "Python 3",
   "language": "python",
   "name": "python3"
  },
  "language_info": {
   "codemirror_mode": {
    "name": "ipython",
    "version": 3
   },
   "file_extension": ".py",
   "mimetype": "text/x-python",
   "name": "python",
   "nbconvert_exporter": "python",
   "pygments_lexer": "ipython3",
   "version": "3.6.5"
  }
 },
 "nbformat": 4,
 "nbformat_minor": 2
}
